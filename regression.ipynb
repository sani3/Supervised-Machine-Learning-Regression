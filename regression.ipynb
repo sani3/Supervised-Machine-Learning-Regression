{
 "cells": [
  {
   "cell_type": "markdown",
   "metadata": {},
   "source": [
    "# Regression: California Housing Dataset."
   ]
  },
  {
   "cell_type": "markdown",
   "metadata": {},
   "source": [
    "***Stephen Sani***"
   ]
  },
  {
   "cell_type": "markdown",
   "metadata": {},
   "source": [
    ">***To train regression model that predict median house value.***"
   ]
  },
  {
   "cell_type": "markdown",
   "metadata": {},
   "source": [
    "The following packages are required:"
   ]
  },
  {
   "cell_type": "code",
   "execution_count": 36,
   "metadata": {},
   "outputs": [],
   "source": [
    "import numpy as np\n",
    "import matplotlib.pyplot as plt\n",
    "import pandas as pd\n",
    "from scipy import stats\n",
    "from ml_util import SplitData, ReadData, CleanText, DropMissing, CreateFeatures, FillMissing, \\\n",
    "    EncodeCategory, SeperateLabel, ScaleFeatures, train_error, cv_error, plot_learning_curves\n",
    "from sklearn.pipeline import Pipeline\n",
    "from sklearn.linear_model import SGDRegressor, LinearRegression, Ridge, Lasso, ElasticNet\n",
    "from sklearn.preprocessing import  PolynomialFeatures\n",
    "from sklearn.tree import DecisionTreeRegressor\n",
    "from sklearn.ensemble import RandomForestRegressor\n",
    "from sklearn.neural_network import MLPRegressor\n",
    "from sklearn import svm\n",
    "from sklearn.metrics import mean_squared_error, r2_score\n",
    "from sklearn.model_selection import GridSearchCV, learning_curve\n",
    "from joblib import dump, load"
   ]
  },
  {
   "cell_type": "markdown",
   "metadata": {},
   "source": [
    "Entire range of tasks required to clean and use the dataset are implemented in pipelines. :\n",
    "1. Read dataset\n",
    "2. Clean/harmonize text fields\n",
    "3. Drop rows with missing values in text fields\n",
    "4. Seperate label\n",
    "5. Split dataset into train and test sets\n",
    "6. Fill missing numeric values in training set\n",
    "7. Encode ocean_proximity\n",
    "8. Create new features: ['rooms_per_bedrooms', 'population_per_households', 'median_income_per_households', 'population_per_total_rooms']"
   ]
  },
  {
   "cell_type": "markdown",
   "metadata": {},
   "source": [
    "Instantiate pipelines for task execution"
   ]
  },
  {
   "cell_type": "code",
   "execution_count": 37,
   "metadata": {},
   "outputs": [],
   "source": [
    "# Pipeline to get housing data\n",
    "read_data = Pipeline([\n",
    "    ('read_data', ReadData()),\n",
    "    ('clean_text', CleanText()),\n",
    "    ('drop_missing', DropMissing(columns=['ocean_proximity'])),\n",
    "])\n",
    "\n",
    "# Pipeline to seperate label\n",
    "seperate_label = Pipeline([\n",
    "    ('seperate_label', SeperateLabel(label=['median_house_value'])),\n",
    "])\n",
    "\n",
    "# Pipeline to split data set\n",
    "split_data = Pipeline([\n",
    "    ('split_data', SplitData(strat=True, cat=['ocean_proximity'])),\n",
    "])\n",
    "\n",
    "# Pipeline to fill missing numeric values\n",
    "fill_missing = Pipeline([\n",
    "    ('fill_missing', FillMissing(strategy='median')),\n",
    "])\n",
    "\n",
    "# Pipeline to procees features\n",
    "process_features = Pipeline([\n",
    "    ('encode_category', EncodeCategory(feature='ocean_proximity', one_hot=False)),\n",
    "    ('create_features', CreateFeatures()),\n",
    "])\n"
   ]
  },
  {
   "cell_type": "markdown",
   "metadata": {},
   "source": [
    "Execute pipeline stages to obtain training and test sets"
   ]
  },
  {
   "cell_type": "code",
   "execution_count": 38,
   "metadata": {},
   "outputs": [],
   "source": [
    "# Read housing data\n",
    "housing = read_data.fit_transform('./resources/data/housing_ready.csv')\n",
    "\n",
    "# Seperate housing data label\n",
    "X, y = seperate_label.fit_transform(housing)\n",
    "\n",
    "# Split housing data into training and test sets\n",
    "train_x, test_x, train_y, test_y = split_data.fit_transform(X, y)\n",
    "\n",
    "# Fill missing numeric values in training and test sets\n",
    "train_x_filled = fill_missing.fit_transform(train_x)\n",
    "test_x_filled = fill_missing.transform(test_x)\n",
    "\n",
    "# Process features in training and test sets\n",
    "train_X = process_features.fit_transform(X=train_x_filled)\n",
    "test_X = process_features.transform(X=test_x_filled)\n",
    "\n",
    "# Reshape outcome for training and test sets\n",
    "train_y = train_y.to_numpy().ravel()\n",
    "test_y = test_y.to_numpy().ravel()"
   ]
  },
  {
   "cell_type": "markdown",
   "metadata": {},
   "source": [
    "## Model selection"
   ]
  },
  {
   "cell_type": "markdown",
   "metadata": {},
   "source": [
    "Train and evaluate several regression models for selection."
   ]
  },
  {
   "cell_type": "markdown",
   "metadata": {},
   "source": [
    "#### 1. Stochastic Gradient Descent Regression"
   ]
  },
  {
   "cell_type": "code",
   "execution_count": 39,
   "metadata": {},
   "outputs": [],
   "source": [
    "# Stochastic gradient descent regression model\n",
    "sgd_regr = Pipeline([\n",
    "    ('scale_features', ScaleFeatures()),\n",
    "    ('sgd_regr', SGDRegressor(max_iter=4000)),\n",
    "])\n",
    "sgd_regr.fit(X=train_X, y=train_y)\n",
    "dump(sgd_regr, './resources/models/sgd_regr.joblib') \n",
    "train_y_pred = sgd_regr.predict(X=train_X)\n",
    "\n",
    "# Training and cross-validation errors (rmse)\n",
    "sgd_regr_tre = train_error(train_y, train_y_pred)\n",
    "sgd_regr_cve = cv_error(sgd_regr, train_X, train_y)"
   ]
  },
  {
   "cell_type": "markdown",
   "metadata": {},
   "source": [
    "#### 2. Linear Regression"
   ]
  },
  {
   "cell_type": "code",
   "execution_count": 40,
   "metadata": {},
   "outputs": [],
   "source": [
    "# Linear regression\n",
    "lin_regr = Pipeline([\n",
    "    ('scale_features', ScaleFeatures()),\n",
    "    ('lin_regr', LinearRegression()),\n",
    "])\n",
    "lin_regr.fit(X=train_X, y=train_y)\n",
    "dump(lin_regr, './resources/models/lin_regr.joblib') \n",
    "train_y_pred = lin_regr.predict(X=train_X)\n",
    "\n",
    "# Training and cross-validation errors (rmse)\n",
    "lin_regr_tre = train_error(train_y, train_y_pred)\n",
    "lin_regr_cve = cv_error(lin_regr, train_X, train_y)"
   ]
  },
  {
   "cell_type": "markdown",
   "metadata": {},
   "source": [
    "#### 3. Polynomial Regression"
   ]
  },
  {
   "cell_type": "code",
   "execution_count": 41,
   "metadata": {},
   "outputs": [],
   "source": [
    "# Polynomial regression (non-linear regression)\n",
    "poly_lin_regr = Pipeline([\n",
    "    ('poly_features', PolynomialFeatures()),\n",
    "    ('scale_features', ScaleFeatures()),\n",
    "    ('poly_lin_regr', LinearRegression()),\n",
    "])\n",
    "\n",
    "poly_lin_regr.fit(X=train_X, y=train_y)\n",
    "dump(lin_regr, './resources/models/poly_lin_regr.joblib') \n",
    "train_y_pred = poly_lin_regr.predict(X=train_X)\n",
    "\n",
    "# Training and cross-validation errors (rmse)\n",
    "poly_lin_regr_tre = train_error(train_y, train_y_pred)\n",
    "poly_lin_regr_cve = cv_error(poly_lin_regr, train_X, train_y)"
   ]
  },
  {
   "cell_type": "markdown",
   "metadata": {},
   "source": [
    "#### 4. Ridge Regression"
   ]
  },
  {
   "cell_type": "code",
   "execution_count": 42,
   "metadata": {},
   "outputs": [],
   "source": [
    "# Ridge regression\n",
    "ridge_regr = Pipeline([\n",
    "    ('scale_features', ScaleFeatures()),\n",
    "    ('ridge_regr', Ridge(max_iter=4000)),\n",
    "])\n",
    "ridge_regr.fit(X=train_X, y=train_y)\n",
    "dump(ridge_regr, './resources/models/ridge_regr.joblib') \n",
    "train_y_pred = ridge_regr.predict(X=train_X)\n",
    "\n",
    "# Training and cross-validation errors (rmse)\n",
    "ridge_regr_tre = train_error(train_y, train_y_pred)\n",
    "ridge_regr_cve = cv_error(ridge_regr, train_X, train_y)"
   ]
  },
  {
   "cell_type": "markdown",
   "metadata": {},
   "source": [
    "#### 5. Lasso Regression"
   ]
  },
  {
   "cell_type": "code",
   "execution_count": 43,
   "metadata": {},
   "outputs": [],
   "source": [
    "# Lasso regression\n",
    "lasso_regr = Pipeline([\n",
    "    ('scale_features', ScaleFeatures()),\n",
    "    ('lasso_regr', Lasso(max_iter=4000, tol=0.01)),\n",
    "])\n",
    "hist =lasso_regr.fit(X=train_X, y=train_y)\n",
    "dump(lasso_regr, './resources/models/lasso_regr.joblib') \n",
    "train_y_pred = lasso_regr.predict(X=train_X)\n",
    "\n",
    "# Training and cross-validation errors (rmse)\n",
    "lasso_regr_tre = train_error(train_y, train_y_pred)\n",
    "lasso_regr_cve = cv_error(lasso_regr, train_X, train_y)"
   ]
  },
  {
   "cell_type": "markdown",
   "metadata": {},
   "source": [
    "#### 6. ElasticNet Regression"
   ]
  },
  {
   "cell_type": "code",
   "execution_count": 44,
   "metadata": {},
   "outputs": [],
   "source": [
    "# ElasticNet regression (linear regression with l1 and l2 regularization)\n",
    "elast_regr = Pipeline([\n",
    "    ('scale_features', ScaleFeatures()),\n",
    "    ('elast_regr', ElasticNet(alpha=0.1, l1_ratio=0.5, max_iter=4000, tol=0.01)),\n",
    "])\n",
    "\n",
    "elast_regr.fit(X=train_X, y=train_y)\n",
    "dump(elast_regr, './resources/models/elast_regr.joblib') \n",
    "train_y_pred = elast_regr.predict(X=train_X)\n",
    "\n",
    "# Training and cross-validation errors (rmse)\n",
    "elast_regr_tre = train_error(train_y, train_y_pred)\n",
    "elast_regr_cve = cv_error(elast_regr, train_X, train_y)"
   ]
  },
  {
   "cell_type": "markdown",
   "metadata": {},
   "source": [
    "#### 7. DescisionTree Regression"
   ]
  },
  {
   "cell_type": "code",
   "execution_count": 45,
   "metadata": {},
   "outputs": [],
   "source": [
    "# Decision Tree Regression\n",
    "tree_regr = Pipeline([\n",
    "    ('tree_regr', DecisionTreeRegressor()),\n",
    "])\n",
    "tree_regr.fit(X=train_X, y=train_y) \n",
    "dump(tree_regr, './resources/models/tree_regr.joblib') \n",
    "train_y_pred = tree_regr.predict(X=train_X)\n",
    "\n",
    "# Training and cross-validation errors (rmse)\n",
    "tree_regr_tre = train_error(train_y, train_y_pred)\n",
    "tree_regr_cve = cv_error(tree_regr, train_X, train_y)"
   ]
  },
  {
   "cell_type": "markdown",
   "metadata": {},
   "source": [
    "#### 8. Random Forest Regression"
   ]
  },
  {
   "cell_type": "code",
   "execution_count": 46,
   "metadata": {},
   "outputs": [],
   "source": [
    "# Random Forest Regression\n",
    "forest_regr = Pipeline([\n",
    "    ('forest_regr', RandomForestRegressor()),\n",
    "])\n",
    "forest_regr.fit(X=train_X, y=train_y) \n",
    "dump(forest_regr, './resources/models/forest_regr.joblib') \n",
    "train_y_pred = forest_regr.predict(X=train_X)\n",
    "\n",
    "# Training and cross-validation errors (rmse)\n",
    "forest_regr_tre = train_error(train_y, train_y_pred)\n",
    "forest_regr_cve = cv_error(forest_regr, train_X, train_y)"
   ]
  },
  {
   "cell_type": "markdown",
   "metadata": {},
   "source": [
    "#### 9. Support Vector Machine Regression"
   ]
  },
  {
   "cell_type": "code",
   "execution_count": 47,
   "metadata": {},
   "outputs": [],
   "source": [
    "# Support Vector Machine Regression \n",
    "svm_regr = Pipeline([\n",
    "    ('scale_features', ScaleFeatures()),\n",
    "    ('svm_regr', svm.NuSVR()),\n",
    "])\n",
    "svm_regr.fit(X=train_X, y=train_y) \n",
    "dump(svm_regr, './resources/models/svm_regr.joblib') \n",
    "train_y_pred = svm_regr.predict(X=train_X)\n",
    "\n",
    "# Training and cross-validation errors (rmse)\n",
    "svm_regr_tre = train_error(train_y, train_y_pred)\n",
    "svm_regr_cve = cv_error(svm_regr, train_X, train_y)"
   ]
  },
  {
   "cell_type": "markdown",
   "metadata": {},
   "source": [
    "#### 10. Multi Layer Perceptron Regression"
   ]
  },
  {
   "cell_type": "code",
   "execution_count": 48,
   "metadata": {},
   "outputs": [],
   "source": [
    "# Multiple Layer Perceptron\n",
    "mlp_regr = Pipeline([\n",
    "    ('scale_features', ScaleFeatures()),\n",
    "    ('mlp_regr', MLPRegressor(activation='tanh', hidden_layer_sizes=(7), solver='lbfgs', max_iter=4000, random_state=42)),\n",
    "])\n",
    "mlp_regr.fit(X=train_X, y=train_y) \n",
    "dump(mlp_regr, './resources/models/mlp_regr.joblib')\n",
    "train_y_pred = mlp_regr.predict(X=train_X)\n",
    "\n",
    "# Training and cross-validation errors (rmse)\n",
    "mlp_regr_tre = train_error(train_y, train_y_pred)\n",
    "mlp_regr_cve = cv_error(mlp_regr, train_X, train_y)"
   ]
  },
  {
   "cell_type": "markdown",
   "metadata": {},
   "source": [
    "### Results"
   ]
  },
  {
   "cell_type": "markdown",
   "metadata": {},
   "source": [
    "A summary of the results"
   ]
  },
  {
   "cell_type": "code",
   "execution_count": 49,
   "metadata": {},
   "outputs": [
    {
     "data": {
      "text/plain": [
       "{'sgd_regr': [72218380367.52135, 65765742643.53943],\n",
       " 'lin_regr': [56611.97440930865, 56907.67656047384],\n",
       " 'poly_lin_regr': [50779.72222203578, 2943891.45802177],\n",
       " 'ridge_regr': [56611.97960918478, 56905.025837592475],\n",
       " 'lasso_regr': [56611.97621912849, 56905.19491734043],\n",
       " 'elast_regr': [57277.621703349774, 57383.160581887045],\n",
       " 'tree_regr': [0.0, 60481.05790401982],\n",
       " 'forest_regr': [15994.665347534872, 43380.61230567224],\n",
       " 'svm_regr': [95131.4791391978, 95179.79989238977],\n",
       " 'mlp_regr': [74247.82308605181, 83606.17879501887]}"
      ]
     },
     "execution_count": 49,
     "metadata": {},
     "output_type": "execute_result"
    }
   ],
   "source": [
    "results = {\n",
    "    'sgd_regr': [sgd_regr_tre['Training_error'], sgd_regr_cve['Mean']],\n",
    "    'lin_regr': [lin_regr_tre['Training_error'], lin_regr_cve['Mean']],\n",
    "    'poly_lin_regr': [poly_lin_regr_tre['Training_error'], poly_lin_regr_cve['Mean']],\n",
    "    'ridge_regr': [ridge_regr_tre['Training_error'], ridge_regr_cve['Mean']],\n",
    "    'lasso_regr': [lasso_regr_tre['Training_error'], lasso_regr_cve['Mean']],\n",
    "    'elast_regr': [elast_regr_tre['Training_error'], elast_regr_cve['Mean']],\n",
    "    'tree_regr': [tree_regr_tre['Training_error'], tree_regr_cve['Mean']],\n",
    "    'forest_regr': [forest_regr_tre['Training_error'], forest_regr_cve['Mean']],\n",
    "    'svm_regr': [svm_regr_tre['Training_error'], svm_regr_cve['Mean']],\n",
    "    'mlp_regr': [mlp_regr_tre['Training_error'], mlp_regr_cve['Mean']],\n",
    "}\n",
    "results"
   ]
  },
  {
   "cell_type": "markdown",
   "metadata": {},
   "source": [
    "From the results: \n",
    "1. sgd_regr has very high training error indicating high bias (underfitting).\n",
    "2. lin_regr and poly_lin_reger have better training errors compared to sgd_regr In addition, they both have low variance and can generalize to the validation set although they do not use regularization.\n",
    "3. ridge_regr, lasso_regr, elast_regr also have promising results as the variance is low. The training error is also similar to that of lin_regr and poly_lin_reger. The hyperparameters can be tunned to improve prformance\n",
    "4. tree_regr and forest_regr have superior training errors but have high variance. To address overfitting, reduce the number of features or simplify the model or increase training sample.\n",
    "5. svm_regr and mlp_regr have relatively high training errors although the variance is small."
   ]
  },
  {
   "cell_type": "markdown",
   "metadata": {},
   "source": [
    "Proceeding with lasso_regr: \n",
    "1. lasso_regr and elast_reger can minimize the weight of useless features which will be useful in feature selection for further action\n",
    "2. In addition to the low training error, the cross-validation score is very close compared with the training error indicating that the model does not overfit the training set and can generalize to new samples.\n"
   ]
  },
  {
   "cell_type": "markdown",
   "metadata": {},
   "source": [
    "## Hyper Parameter Tunning"
   ]
  },
  {
   "cell_type": "markdown",
   "metadata": {},
   "source": [
    "To get the best performance from the selected model, we tune some hyperparameters to optimize performance"
   ]
  },
  {
   "cell_type": "code",
   "execution_count": 50,
   "metadata": {},
   "outputs": [
    {
     "data": {
      "text/html": [
       "<style>#sk-container-id-4 {color: black;}#sk-container-id-4 pre{padding: 0;}#sk-container-id-4 div.sk-toggleable {background-color: white;}#sk-container-id-4 label.sk-toggleable__label {cursor: pointer;display: block;width: 100%;margin-bottom: 0;padding: 0.3em;box-sizing: border-box;text-align: center;}#sk-container-id-4 label.sk-toggleable__label-arrow:before {content: \"▸\";float: left;margin-right: 0.25em;color: #696969;}#sk-container-id-4 label.sk-toggleable__label-arrow:hover:before {color: black;}#sk-container-id-4 div.sk-estimator:hover label.sk-toggleable__label-arrow:before {color: black;}#sk-container-id-4 div.sk-toggleable__content {max-height: 0;max-width: 0;overflow: hidden;text-align: left;background-color: #f0f8ff;}#sk-container-id-4 div.sk-toggleable__content pre {margin: 0.2em;color: black;border-radius: 0.25em;background-color: #f0f8ff;}#sk-container-id-4 input.sk-toggleable__control:checked~div.sk-toggleable__content {max-height: 200px;max-width: 100%;overflow: auto;}#sk-container-id-4 input.sk-toggleable__control:checked~label.sk-toggleable__label-arrow:before {content: \"▾\";}#sk-container-id-4 div.sk-estimator input.sk-toggleable__control:checked~label.sk-toggleable__label {background-color: #d4ebff;}#sk-container-id-4 div.sk-label input.sk-toggleable__control:checked~label.sk-toggleable__label {background-color: #d4ebff;}#sk-container-id-4 input.sk-hidden--visually {border: 0;clip: rect(1px 1px 1px 1px);clip: rect(1px, 1px, 1px, 1px);height: 1px;margin: -1px;overflow: hidden;padding: 0;position: absolute;width: 1px;}#sk-container-id-4 div.sk-estimator {font-family: monospace;background-color: #f0f8ff;border: 1px dotted black;border-radius: 0.25em;box-sizing: border-box;margin-bottom: 0.5em;}#sk-container-id-4 div.sk-estimator:hover {background-color: #d4ebff;}#sk-container-id-4 div.sk-parallel-item::after {content: \"\";width: 100%;border-bottom: 1px solid gray;flex-grow: 1;}#sk-container-id-4 div.sk-label:hover label.sk-toggleable__label {background-color: #d4ebff;}#sk-container-id-4 div.sk-serial::before {content: \"\";position: absolute;border-left: 1px solid gray;box-sizing: border-box;top: 0;bottom: 0;left: 50%;z-index: 0;}#sk-container-id-4 div.sk-serial {display: flex;flex-direction: column;align-items: center;background-color: white;padding-right: 0.2em;padding-left: 0.2em;position: relative;}#sk-container-id-4 div.sk-item {position: relative;z-index: 1;}#sk-container-id-4 div.sk-parallel {display: flex;align-items: stretch;justify-content: center;background-color: white;position: relative;}#sk-container-id-4 div.sk-item::before, #sk-container-id-4 div.sk-parallel-item::before {content: \"\";position: absolute;border-left: 1px solid gray;box-sizing: border-box;top: 0;bottom: 0;left: 50%;z-index: -1;}#sk-container-id-4 div.sk-parallel-item {display: flex;flex-direction: column;z-index: 1;position: relative;background-color: white;}#sk-container-id-4 div.sk-parallel-item:first-child::after {align-self: flex-end;width: 50%;}#sk-container-id-4 div.sk-parallel-item:last-child::after {align-self: flex-start;width: 50%;}#sk-container-id-4 div.sk-parallel-item:only-child::after {width: 0;}#sk-container-id-4 div.sk-dashed-wrapped {border: 1px dashed gray;margin: 0 0.4em 0.5em 0.4em;box-sizing: border-box;padding-bottom: 0.4em;background-color: white;}#sk-container-id-4 div.sk-label label {font-family: monospace;font-weight: bold;display: inline-block;line-height: 1.2em;}#sk-container-id-4 div.sk-label-container {text-align: center;}#sk-container-id-4 div.sk-container {/* jupyter's `normalize.less` sets `[hidden] { display: none; }` but bootstrap.min.css set `[hidden] { display: none !important; }` so we also need the `!important` here to be able to override the default hidden behavior on the sphinx rendered scikit-learn.org. See: https://github.com/scikit-learn/scikit-learn/issues/21755 */display: inline-block !important;position: relative;}#sk-container-id-4 div.sk-text-repr-fallback {display: none;}</style><div id=\"sk-container-id-4\" class=\"sk-top-container\"><div class=\"sk-text-repr-fallback\"><pre>GridSearchCV(cv=5, estimator=Lasso(max_iter=4000, tol=0.01),\n",
       "             param_grid=[{&#x27;alpha&#x27;: [40, 60, 80], &#x27;tol&#x27;: [0.01, 0.1, 1]}],\n",
       "             return_train_score=True, scoring=&#x27;neg_mean_squared_error&#x27;)</pre><b>In a Jupyter environment, please rerun this cell to show the HTML representation or trust the notebook. <br />On GitHub, the HTML representation is unable to render, please try loading this page with nbviewer.org.</b></div><div class=\"sk-container\" hidden><div class=\"sk-item sk-dashed-wrapped\"><div class=\"sk-label-container\"><div class=\"sk-label sk-toggleable\"><input class=\"sk-toggleable__control sk-hidden--visually\" id=\"sk-estimator-id-8\" type=\"checkbox\" ><label for=\"sk-estimator-id-8\" class=\"sk-toggleable__label sk-toggleable__label-arrow\">GridSearchCV</label><div class=\"sk-toggleable__content\"><pre>GridSearchCV(cv=5, estimator=Lasso(max_iter=4000, tol=0.01),\n",
       "             param_grid=[{&#x27;alpha&#x27;: [40, 60, 80], &#x27;tol&#x27;: [0.01, 0.1, 1]}],\n",
       "             return_train_score=True, scoring=&#x27;neg_mean_squared_error&#x27;)</pre></div></div></div><div class=\"sk-parallel\"><div class=\"sk-parallel-item\"><div class=\"sk-item\"><div class=\"sk-label-container\"><div class=\"sk-label sk-toggleable\"><input class=\"sk-toggleable__control sk-hidden--visually\" id=\"sk-estimator-id-9\" type=\"checkbox\" ><label for=\"sk-estimator-id-9\" class=\"sk-toggleable__label sk-toggleable__label-arrow\">estimator: Lasso</label><div class=\"sk-toggleable__content\"><pre>Lasso(max_iter=4000, tol=0.01)</pre></div></div></div><div class=\"sk-serial\"><div class=\"sk-item\"><div class=\"sk-estimator sk-toggleable\"><input class=\"sk-toggleable__control sk-hidden--visually\" id=\"sk-estimator-id-10\" type=\"checkbox\" ><label for=\"sk-estimator-id-10\" class=\"sk-toggleable__label sk-toggleable__label-arrow\">Lasso</label><div class=\"sk-toggleable__content\"><pre>Lasso(max_iter=4000, tol=0.01)</pre></div></div></div></div></div></div></div></div></div></div>"
      ],
      "text/plain": [
       "GridSearchCV(cv=5, estimator=Lasso(max_iter=4000, tol=0.01),\n",
       "             param_grid=[{'alpha': [40, 60, 80], 'tol': [0.01, 0.1, 1]}],\n",
       "             return_train_score=True, scoring='neg_mean_squared_error')"
      ]
     },
     "execution_count": 50,
     "metadata": {},
     "output_type": "execute_result"
    }
   ],
   "source": [
    "# Fine tunning with GridSearchCV\n",
    "\n",
    "lasso_regr = Pipeline([\n",
    "    ('scale_features', ScaleFeatures()),\n",
    "    ('lasso_regr', Lasso(max_iter=4000, tol=0.01)),\n",
    "])\n",
    "\n",
    "param_grid = [\n",
    "    {\n",
    "        'alpha': [40, 60, 80],\n",
    "        'tol': [1e-2, 1e-1, 1]\n",
    "    }\n",
    "]\n",
    "\n",
    "grid_search = GridSearchCV(\n",
    "    estimator=lasso_regr.named_steps['lasso_regr'], param_grid=param_grid, cv=5, \n",
    "    scoring='neg_mean_squared_error', return_train_score=True\n",
    ")\n",
    "\n",
    "grid_search.fit(X=train_X, y=train_y)"
   ]
  },
  {
   "cell_type": "markdown",
   "metadata": {},
   "source": [
    "Display results"
   ]
  },
  {
   "cell_type": "code",
   "execution_count": 51,
   "metadata": {},
   "outputs": [
    {
     "name": "stdout",
     "output_type": "stream",
     "text": [
      "57857.19392887427 {'alpha': 40, 'tol': 0.01}\n",
      "57836.67839482369 {'alpha': 40, 'tol': 0.1}\n",
      "58041.99301552066 {'alpha': 40, 'tol': 1}\n",
      "57092.233661725004 {'alpha': 60, 'tol': 0.01}\n",
      "57077.896852897 {'alpha': 60, 'tol': 0.1}\n",
      "58076.18956475679 {'alpha': 60, 'tol': 1}\n",
      "57235.45857602866 {'alpha': 80, 'tol': 0.01}\n",
      "57212.92194056179 {'alpha': 80, 'tol': 0.1}\n",
      "58105.03559226114 {'alpha': 80, 'tol': 1}\n"
     ]
    }
   ],
   "source": [
    "cvres = grid_search.cv_results_\n",
    "for mean_score, params in zip(cvres[\"mean_test_score\"], cvres[\"params\"]):\n",
    "    print(np.sqrt(-mean_score), params)"
   ]
  },
  {
   "cell_type": "markdown",
   "metadata": {},
   "source": [
    "Obtain the best hyperparameter values"
   ]
  },
  {
   "cell_type": "code",
   "execution_count": 52,
   "metadata": {},
   "outputs": [
    {
     "data": {
      "text/plain": [
       "{'alpha': 60, 'tol': 0.1}"
      ]
     },
     "execution_count": 52,
     "metadata": {},
     "output_type": "execute_result"
    }
   ],
   "source": [
    "grid_search.best_params_"
   ]
  },
  {
   "cell_type": "markdown",
   "metadata": {},
   "source": [
    "Obtain the best estimator"
   ]
  },
  {
   "cell_type": "code",
   "execution_count": 53,
   "metadata": {},
   "outputs": [
    {
     "data": {
      "text/html": [
       "<style>#sk-container-id-5 {color: black;}#sk-container-id-5 pre{padding: 0;}#sk-container-id-5 div.sk-toggleable {background-color: white;}#sk-container-id-5 label.sk-toggleable__label {cursor: pointer;display: block;width: 100%;margin-bottom: 0;padding: 0.3em;box-sizing: border-box;text-align: center;}#sk-container-id-5 label.sk-toggleable__label-arrow:before {content: \"▸\";float: left;margin-right: 0.25em;color: #696969;}#sk-container-id-5 label.sk-toggleable__label-arrow:hover:before {color: black;}#sk-container-id-5 div.sk-estimator:hover label.sk-toggleable__label-arrow:before {color: black;}#sk-container-id-5 div.sk-toggleable__content {max-height: 0;max-width: 0;overflow: hidden;text-align: left;background-color: #f0f8ff;}#sk-container-id-5 div.sk-toggleable__content pre {margin: 0.2em;color: black;border-radius: 0.25em;background-color: #f0f8ff;}#sk-container-id-5 input.sk-toggleable__control:checked~div.sk-toggleable__content {max-height: 200px;max-width: 100%;overflow: auto;}#sk-container-id-5 input.sk-toggleable__control:checked~label.sk-toggleable__label-arrow:before {content: \"▾\";}#sk-container-id-5 div.sk-estimator input.sk-toggleable__control:checked~label.sk-toggleable__label {background-color: #d4ebff;}#sk-container-id-5 div.sk-label input.sk-toggleable__control:checked~label.sk-toggleable__label {background-color: #d4ebff;}#sk-container-id-5 input.sk-hidden--visually {border: 0;clip: rect(1px 1px 1px 1px);clip: rect(1px, 1px, 1px, 1px);height: 1px;margin: -1px;overflow: hidden;padding: 0;position: absolute;width: 1px;}#sk-container-id-5 div.sk-estimator {font-family: monospace;background-color: #f0f8ff;border: 1px dotted black;border-radius: 0.25em;box-sizing: border-box;margin-bottom: 0.5em;}#sk-container-id-5 div.sk-estimator:hover {background-color: #d4ebff;}#sk-container-id-5 div.sk-parallel-item::after {content: \"\";width: 100%;border-bottom: 1px solid gray;flex-grow: 1;}#sk-container-id-5 div.sk-label:hover label.sk-toggleable__label {background-color: #d4ebff;}#sk-container-id-5 div.sk-serial::before {content: \"\";position: absolute;border-left: 1px solid gray;box-sizing: border-box;top: 0;bottom: 0;left: 50%;z-index: 0;}#sk-container-id-5 div.sk-serial {display: flex;flex-direction: column;align-items: center;background-color: white;padding-right: 0.2em;padding-left: 0.2em;position: relative;}#sk-container-id-5 div.sk-item {position: relative;z-index: 1;}#sk-container-id-5 div.sk-parallel {display: flex;align-items: stretch;justify-content: center;background-color: white;position: relative;}#sk-container-id-5 div.sk-item::before, #sk-container-id-5 div.sk-parallel-item::before {content: \"\";position: absolute;border-left: 1px solid gray;box-sizing: border-box;top: 0;bottom: 0;left: 50%;z-index: -1;}#sk-container-id-5 div.sk-parallel-item {display: flex;flex-direction: column;z-index: 1;position: relative;background-color: white;}#sk-container-id-5 div.sk-parallel-item:first-child::after {align-self: flex-end;width: 50%;}#sk-container-id-5 div.sk-parallel-item:last-child::after {align-self: flex-start;width: 50%;}#sk-container-id-5 div.sk-parallel-item:only-child::after {width: 0;}#sk-container-id-5 div.sk-dashed-wrapped {border: 1px dashed gray;margin: 0 0.4em 0.5em 0.4em;box-sizing: border-box;padding-bottom: 0.4em;background-color: white;}#sk-container-id-5 div.sk-label label {font-family: monospace;font-weight: bold;display: inline-block;line-height: 1.2em;}#sk-container-id-5 div.sk-label-container {text-align: center;}#sk-container-id-5 div.sk-container {/* jupyter's `normalize.less` sets `[hidden] { display: none; }` but bootstrap.min.css set `[hidden] { display: none !important; }` so we also need the `!important` here to be able to override the default hidden behavior on the sphinx rendered scikit-learn.org. See: https://github.com/scikit-learn/scikit-learn/issues/21755 */display: inline-block !important;position: relative;}#sk-container-id-5 div.sk-text-repr-fallback {display: none;}</style><div id=\"sk-container-id-5\" class=\"sk-top-container\"><div class=\"sk-text-repr-fallback\"><pre>Lasso(alpha=60, max_iter=4000, tol=0.1)</pre><b>In a Jupyter environment, please rerun this cell to show the HTML representation or trust the notebook. <br />On GitHub, the HTML representation is unable to render, please try loading this page with nbviewer.org.</b></div><div class=\"sk-container\" hidden><div class=\"sk-item\"><div class=\"sk-estimator sk-toggleable\"><input class=\"sk-toggleable__control sk-hidden--visually\" id=\"sk-estimator-id-11\" type=\"checkbox\" checked><label for=\"sk-estimator-id-11\" class=\"sk-toggleable__label sk-toggleable__label-arrow\">Lasso</label><div class=\"sk-toggleable__content\"><pre>Lasso(alpha=60, max_iter=4000, tol=0.1)</pre></div></div></div></div></div>"
      ],
      "text/plain": [
       "Lasso(alpha=60, max_iter=4000, tol=0.1)"
      ]
     },
     "execution_count": 53,
     "metadata": {},
     "output_type": "execute_result"
    }
   ],
   "source": [
    "grid_search.best_estimator_"
   ]
  },
  {
   "cell_type": "markdown",
   "metadata": {},
   "source": [
    "#### Learning curve"
   ]
  },
  {
   "cell_type": "code",
   "execution_count": 54,
   "metadata": {},
   "outputs": [
    {
     "data": {
      "image/png": "[encoded data removed]",
      "text/plain": [
       "<Figure size 640x480 with 1 Axes>"
      ]
     },
     "metadata": {},
     "output_type": "display_data"
    }
   ],
   "source": [
    "lasso_regr = Pipeline([\n",
    "    ('scale_features', ScaleFeatures()),\n",
    "    ('lasso_regr', grid_search.best_estimator_),\n",
    "])\n",
    "\n",
    "train_size, train_err, valid_err = learning_curve(\n",
    "    lasso_regr, train_X, train_y, n_jobs=5,\n",
    "    scoring=\"neg_mean_squared_error\", train_sizes=np.arange(1, 1200, 10)\n",
    ")\n",
    "\n",
    "plt.figure()\n",
    "plt.plot(train_size, np.sqrt(-train_err.mean(axis=1)), label='Training error')\n",
    "plt.plot(train_size, np.sqrt(-valid_err.mean(axis=1)), label='Validation error')\n",
    "plt.ylabel('Error score')\n",
    "plt.xlabel('Training size')\n",
    "plt.title('Learning Curve')\n",
    "plt.legend()\n",
    "plt.show()"
   ]
  },
  {
   "cell_type": "markdown",
   "metadata": {},
   "source": [
    "## Final Model Training"
   ]
  },
  {
   "cell_type": "markdown",
   "metadata": {},
   "source": [
    "Train the best estimator tunned to the validation set"
   ]
  },
  {
   "cell_type": "code",
   "execution_count": 55,
   "metadata": {},
   "outputs": [
    {
     "name": "stdout",
     "output_type": "stream",
     "text": [
      "{'Training_error': 56641.81107269637}\n",
      "{'Validation_errors': array([56197.32379821, 56768.53085635, 55630.73030343, 59009.92929655,\n",
      "       56599.11783914]), 'Mean': 56841.126418733606, 'Standard deviation': 1153.003448497509}\n",
      "{'R squared': 0.6436913977844123}\n"
     ]
    }
   ],
   "source": [
    "# Final model\n",
    "final_model = Pipeline([\n",
    "    ('scale_features', ScaleFeatures()),\n",
    "    ('final_model', grid_search.best_estimator_),\n",
    "])\n",
    "\n",
    "final_model.fit(X=train_X, y=train_y) \n",
    "dump(final_model, './resources/models/final_model.joblib')\n",
    "\n",
    "train_y_pred = final_model.predict(X=train_X)\n",
    "\n",
    "# Training and cross-validation errors\n",
    "print(train_error(train_y, train_y_pred))\n",
    "print(cv_error(final_model, train_X, train_y))\n",
    "\n",
    "# R squared (Goodness of fit on the training set)\n",
    "r2 = r2_score(train_y, train_y_pred)\n",
    "print({'R squared': r2})"
   ]
  },
  {
   "cell_type": "markdown",
   "metadata": {},
   "source": [
    "Obtain the coefficients of the model"
   ]
  },
  {
   "cell_type": "code",
   "execution_count": 56,
   "metadata": {},
   "outputs": [
    {
     "data": {
      "text/plain": [
       "longitude                        -40877.136174\n",
       "latitude                         -39176.393263\n",
       "housing_median_age                 9619.979761\n",
       "total_rooms                        4988.418731\n",
       "total_bedrooms                    10568.519160\n",
       "population                       -33953.390362\n",
       "households                        22640.793392\n",
       "median_income                     67878.682517\n",
       "ocean_proximity                  -17148.528710\n",
       "population_per_households             0.000000\n",
       "population_per_total_rooms          -54.017155\n",
       "median_income_per_households      -3659.317505\n",
       "total_bedrooms_per_total_rooms    13803.766302\n",
       "dtype: float64"
      ]
     },
     "execution_count": 56,
     "metadata": {},
     "output_type": "execute_result"
    }
   ],
   "source": [
    "weights = final_model.named_steps['final_model'].coef_\n",
    "create_features_stage_output = process_features.named_steps['create_features'].transform(\n",
    "    process_features.named_steps['encode_category'].transform(X=train_x)\n",
    ")\n",
    "pd.Series(data=weights, index=create_features_stage_output.columns)"
   ]
  },
  {
   "cell_type": "markdown",
   "metadata": {},
   "source": [
    "Obtain the intercept of the model"
   ]
  },
  {
   "cell_type": "code",
   "execution_count": 57,
   "metadata": {},
   "outputs": [
    {
     "data": {
      "text/plain": [
       "188377.03525618988"
      ]
     },
     "execution_count": 57,
     "metadata": {},
     "output_type": "execute_result"
    }
   ],
   "source": [
    "final_model.named_steps['final_model'].intercept_"
   ]
  },
  {
   "cell_type": "markdown",
   "metadata": {},
   "source": [
    "Show feature importances"
   ]
  },
  {
   "cell_type": "code",
   "execution_count": 58,
   "metadata": {},
   "outputs": [
    {
     "data": {
      "text/plain": [
       "median_income                     67878.682517\n",
       "longitude                         40877.136174\n",
       "latitude                          39176.393263\n",
       "population                        33953.390362\n",
       "households                        22640.793392\n",
       "ocean_proximity                   17148.528710\n",
       "total_bedrooms_per_total_rooms    13803.766302\n",
       "total_bedrooms                    10568.519160\n",
       "housing_median_age                 9619.979761\n",
       "total_rooms                        4988.418731\n",
       "median_income_per_households       3659.317505\n",
       "population_per_total_rooms           54.017155\n",
       "population_per_households             0.000000\n",
       "dtype: float64"
      ]
     },
     "execution_count": 58,
     "metadata": {},
     "output_type": "execute_result"
    }
   ],
   "source": [
    "pd.Series(data=weights, index=create_features_stage_output.columns).abs().sort_values(ascending=False)"
   ]
  },
  {
   "cell_type": "markdown",
   "metadata": {},
   "source": [
    "The feature population_per_households have a weight of 0.0 meaning it is not useful for predicting median hous value."
   ]
  },
  {
   "cell_type": "markdown",
   "metadata": {},
   "source": [
    "The top 5 features are:"
   ]
  },
  {
   "cell_type": "code",
   "execution_count": 59,
   "metadata": {},
   "outputs": [
    {
     "data": {
      "text/plain": [
       "median_income    67878.682517\n",
       "longitude        40877.136174\n",
       "latitude         39176.393263\n",
       "population       33953.390362\n",
       "households       22640.793392\n",
       "dtype: float64"
      ]
     },
     "execution_count": 59,
     "metadata": {},
     "output_type": "execute_result"
    }
   ],
   "source": [
    "pd.Series(data=weights, index=create_features_stage_output.columns).abs().sort_values(ascending=False).head(5)"
   ]
  },
  {
   "cell_type": "markdown",
   "metadata": {},
   "source": [
    "## Final Model Evaluation"
   ]
  },
  {
   "cell_type": "markdown",
   "metadata": {},
   "source": [
    "Test the perfomance of the best estimator on the test set"
   ]
  },
  {
   "cell_type": "code",
   "execution_count": 60,
   "metadata": {},
   "outputs": [
    {
     "name": "stdout",
     "output_type": "stream",
     "text": [
      "Test set error (rmse):  54444.65837553601\n",
      "{'R Squared': 0.6604917811410894}\n"
     ]
    }
   ],
   "source": [
    "# Test set prediction and evaluation\n",
    "test_y_predictions = final_model.predict(test_X)\n",
    "# Test error\n",
    "test_mse = mean_squared_error(test_y, test_y_predictions)\n",
    "test_rmse = np.sqrt(test_mse)\n",
    "print('Test set error (rmse): ', test_rmse)\n",
    "# R squared (Goodness of fit)\n",
    "r2 = r2_score(test_y, test_y_predictions)\n",
    "print({'R Squared': r2})"
   ]
  },
  {
   "cell_type": "markdown",
   "metadata": {},
   "source": [
    "The final model generalized to the test set as expected and accounted for about 66% of the variation in the test set"
   ]
  },
  {
   "cell_type": "markdown",
   "metadata": {},
   "source": [
    "Compute the 95% confidence interval for the test set error"
   ]
  },
  {
   "cell_type": "code",
   "execution_count": 61,
   "metadata": {},
   "outputs": [
    {
     "data": {
      "text/plain": [
       "array([52590.5419273 , 56237.67910441])"
      ]
     },
     "execution_count": 61,
     "metadata": {},
     "output_type": "execute_result"
    }
   ],
   "source": [
    "# error as an interval of 95% confidene level\n",
    "confidence = 0.95\n",
    "squared_errors = (test_y_predictions-test_y) ** 2\n",
    "np.sqrt(stats.t.interval(\n",
    "    confidence, \n",
    "    len(squared_errors) - 1, \n",
    "    loc=squared_errors.mean(), \n",
    "    scale=stats.sem(squared_errors)\n",
    "))\n"
   ]
  },
  {
   "cell_type": "markdown",
   "metadata": {},
   "source": [
    "## Prediction"
   ]
  },
  {
   "cell_type": "markdown",
   "metadata": {},
   "source": [
    "Predict some median_house_value given some data in a .csv file"
   ]
  },
  {
   "cell_type": "code",
   "execution_count": 62,
   "metadata": {},
   "outputs": [
    {
     "name": "stdout",
     "output_type": "stream",
     "text": [
      "[386473.93347458 411852.25702194 169789.14704045 ... 269154.79755453\n",
      " 241667.7049415  213834.59457891]\n"
     ]
    }
   ],
   "source": [
    "# Read prediction data\n",
    "predict_set = read_data.transform('./resources/data/predict.csv')\n",
    "\n",
    "# Fill missing numeric values in training and test sets\n",
    "X_filled = fill_missing.transform(X)\n",
    "\n",
    "# Process features in training and test sets\n",
    "prepared_X = process_features.transform(X=X_filled)\n",
    "\n",
    "# Reshape outcome for training and test sets\n",
    "prepared_y = y.to_numpy().ravel()\n",
    "\n",
    "# Predict median house value\n",
    "predictions = final_model.predict(prepared_X)\n",
    "print(predictions)"
   ]
  }
 ],
 "metadata": {
  "kernelspec": {
   "display_name": "mltf",
   "language": "python",
   "name": "python3"
  },
  "language_info": {
   "codemirror_mode": {
    "name": "ipython",
    "version": 3
   },
   "file_extension": ".py",
   "mimetype": "text/x-python",
   "name": "python",
   "nbconvert_exporter": "python",
   "pygments_lexer": "ipython3",
   "version": "3.9.18"
  }
 },
 "nbformat": 4,
 "nbformat_minor": 2
}
